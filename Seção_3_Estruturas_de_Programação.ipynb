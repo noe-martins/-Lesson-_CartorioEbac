{
  "nbformat": 4,
  "nbformat_minor": 0,
  "metadata": {
    "colab": {
      "provenance": [],
      "toc_visible": true,
      "authorship_tag": "ABX9TyMUJIgCqLvmsNzyZ9EVgU4G",
      "include_colab_link": true
    },
    "kernelspec": {
      "name": "python3",
      "display_name": "Python 3"
    },
    "language_info": {
      "name": "python"
    }
  },
  "cells": [
    {
      "cell_type": "markdown",
      "metadata": {
        "id": "view-in-github",
        "colab_type": "text"
      },
      "source": [
        "<a href=\"https://colab.research.google.com/github/noe-martins/-Lesson-_CartorioEbac/blob/main/Se%C3%A7%C3%A3o_3_Estruturas_de_Programa%C3%A7%C3%A3o.ipynb\" target=\"_parent\"><img src=\"https://colab.research.google.com/assets/colab-badge.svg\" alt=\"Open In Colab\"/></a>"
      ]
    },
    {
      "cell_type": "markdown",
      "source": [
        "#<br>IF"
      ],
      "metadata": {
        "id": "XPj7e-38oGaX"
      }
    },
    {
      "cell_type": "code",
      "execution_count": null,
      "metadata": {
        "colab": {
          "base_uri": "https://localhost:8080/"
        },
        "id": "qIvWbjbxk0Jy",
        "outputId": "48112bc5-1394-4c63-f6d9-cb0efc848d7e"
      },
      "outputs": [
        {
          "output_type": "stream",
          "name": "stdout",
          "text": [
            "Sim, usa!\n",
            "Fora do 'if'\n"
          ]
        }
      ],
      "source": [
        "#Python usa a identação\n",
        "if(True):\n",
        "  print(\"Sim, usa!\")\n",
        "\n",
        "print(\"Fora do 'if'\")"
      ]
    },
    {
      "cell_type": "code",
      "source": [
        "#Uso do pass\n",
        "if(True):\n",
        "  pass\n",
        "\n",
        "print(\"Só passou o condicional\")"
      ],
      "metadata": {
        "colab": {
          "base_uri": "https://localhost:8080/"
        },
        "id": "3SzJrQjgln15",
        "outputId": "06ff5b0b-1a57-486e-e0b8-cb44d622e928"
      },
      "execution_count": null,
      "outputs": [
        {
          "output_type": "stream",
          "name": "stdout",
          "text": [
            "Só passou o condicional\n"
          ]
        }
      ]
    },
    {
      "cell_type": "code",
      "source": [
        "#Condicional de dois valores\n",
        "valor1 = 10; valor2 = 20\n",
        "if(valor1 != valor2): print(\"São diferentes\")"
      ],
      "metadata": {
        "colab": {
          "base_uri": "https://localhost:8080/"
        },
        "id": "31qWI-o9l92T",
        "outputId": "db5a4c17-4fe7-4fa0-f0f1-1d3bf5e2b14b"
      },
      "execution_count": null,
      "outputs": [
        {
          "output_type": "stream",
          "name": "stdout",
          "text": [
            "São diferentes\n"
          ]
        }
      ]
    },
    {
      "cell_type": "code",
      "source": [
        "#Usando if com o \"in\"\n",
        "nome = input(\"Digite seu primeiro nome: \")\n",
        "if \"o\" in nome: print(\"Você tem a letra 'o' no seu primeiro nome\")"
      ],
      "metadata": {
        "colab": {
          "base_uri": "https://localhost:8080/"
        },
        "id": "45EysZMUmbJ8",
        "outputId": "261c36db-5fc8-4117-f90e-cbdca0d2fdc2"
      },
      "execution_count": null,
      "outputs": [
        {
          "output_type": "stream",
          "name": "stdout",
          "text": [
            "Digite seu primeiro nome: Noé\n",
            "Você tem a letra 'o' no seu primeiro nome\n"
          ]
        }
      ]
    },
    {
      "cell_type": "code",
      "source": [
        "#Usando o else para saber se um número é par ou não\n",
        "number = int(input(\"Digite um número inteiro positivo: \"))\n",
        "if number % 2 == 0 and number != 0:\n",
        "  print(\"O número {} é par!\".format(number))\n",
        "elif number == 0:\n",
        "  print(\"O número {} é '0'\".format(number))\n",
        "else:\n",
        "  print(\"É ímpar\")"
      ],
      "metadata": {
        "colab": {
          "base_uri": "https://localhost:8080/"
        },
        "id": "ST-E4yEknulA",
        "outputId": "b811ac5e-8f72-47f6-c62e-97004deef9d6"
      },
      "execution_count": null,
      "outputs": [
        {
          "output_type": "stream",
          "name": "stdout",
          "text": [
            "Digite um número inteiro positivo: 0\n",
            "O número 0 é '0'\n"
          ]
        }
      ]
    },
    {
      "cell_type": "code",
      "source": [
        "#Saber se uma string tem um caractere\n",
        "text_val = input(\"Digite um texto qualquer: \")\n",
        "if len(text_val) == 1:\n",
        "  print(\"Só tem um caractere\")\n",
        "else:\n",
        "  print(\"Tem mais de um caractere\")"
      ],
      "metadata": {
        "colab": {
          "base_uri": "https://localhost:8080/"
        },
        "id": "lqiFzgZro1Cz",
        "outputId": "2150ede0-dd97-41df-d674-59be4a4b4486"
      },
      "execution_count": null,
      "outputs": [
        {
          "output_type": "stream",
          "name": "stdout",
          "text": [
            "Digite um texto qualquer: Pirulito\n",
            "Tem mais de um caractere\n"
          ]
        }
      ]
    },
    {
      "cell_type": "code",
      "source": [
        "#if ternário com mais de duas condições\n",
        "number_ter = int(input(\"Digite um número inteiro positivo: \"))\n",
        "resultado = \"PAR\" if number_ter % 2 == 0 else \"ZERO\" if number_ter == 0 else \"ÍMPAR\"\n",
        "print(resultado)"
      ],
      "metadata": {
        "colab": {
          "base_uri": "https://localhost:8080/"
        },
        "id": "KyO5SL10qXCd",
        "outputId": "0228d8fe-c785-4c73-cd54-a2f3d4633155"
      },
      "execution_count": null,
      "outputs": [
        {
          "output_type": "stream",
          "name": "stdout",
          "text": [
            "Digite um número inteiro positivo: 25\n",
            "ÍMPAR\n"
          ]
        }
      ]
    },
    {
      "cell_type": "markdown",
      "source": [
        "##Atividade"
      ],
      "metadata": {
        "id": "VAbwIah2to4A"
      }
    },
    {
      "cell_type": "markdown",
      "source": [
        "###1° - Questão"
      ],
      "metadata": {
        "id": "t_fBPVQRtrlv"
      }
    },
    {
      "cell_type": "code",
      "source": [
        "balance = float(input(\"Digite seu saldo: \"))\n",
        "debt = float(input(\"Digite sua dívida: \"))\n",
        "\n",
        "account_status = \"POSITIVO\" if balance > debt else \"ZERADA\" if balance == debt else \"NEGATIVA\"\n",
        "print(\"O status da sua conta bancária é: {}\".format(account_status))"
      ],
      "metadata": {
        "colab": {
          "base_uri": "https://localhost:8080/"
        },
        "id": "ZNixdQ_LtvlQ",
        "outputId": "d1a9096b-51c0-44b8-cb3c-21e1d8357b0f"
      },
      "execution_count": null,
      "outputs": [
        {
          "output_type": "stream",
          "name": "stdout",
          "text": [
            "Digite seu saldo: 5000\n",
            "Digite sua dívida: 5001\n",
            "O status da sua conta bancária é: NEGATIVA\n"
          ]
        }
      ]
    },
    {
      "cell_type": "markdown",
      "source": [
        "###2° - Questão"
      ],
      "metadata": {
        "id": "2UY8dAGovA-b"
      }
    },
    {
      "cell_type": "code",
      "source": [
        "cpf = \"54689705130\"\n",
        "keys = \"2532\"\n",
        "\n",
        "keys_user = input(\"Digite a senha para acessar o CPF: \")\n",
        "if keys_user == keys:\n",
        "  print(cpf)\n",
        "else:\n",
        "  print(\"Senha incorreta\")"
      ],
      "metadata": {
        "colab": {
          "base_uri": "https://localhost:8080/"
        },
        "id": "rllmc2WhvDKt",
        "outputId": "25b4efc4-ebb7-4c32-939a-80e96048cf92"
      },
      "execution_count": null,
      "outputs": [
        {
          "output_type": "stream",
          "name": "stdout",
          "text": [
            "Digite a senha para acessar o CPF: 123\n",
            "Senha incorreta\n"
          ]
        }
      ]
    },
    {
      "cell_type": "markdown",
      "source": [
        "###3° - Questão"
      ],
      "metadata": {
        "id": "jURzDlHhwS14"
      }
    },
    {
      "cell_type": "code",
      "source": [
        "age = int(input(\"Digite sua idade: \"))\n",
        "\n",
        "if age < 3:\n",
        "  print(\"Bebê\")\n",
        "elif age < 13:\n",
        "  print(\"Criança\")\n",
        "elif age < 18:\n",
        "  print(\"Adolescente\")\n",
        "else:\n",
        "  print(\"Adulto\")"
      ],
      "metadata": {
        "colab": {
          "base_uri": "https://localhost:8080/"
        },
        "id": "PrOL5ZsHwWEx",
        "outputId": "3b5bb8db-721d-4b81-8f7c-77baa4322cd2"
      },
      "execution_count": null,
      "outputs": [
        {
          "output_type": "stream",
          "name": "stdout",
          "text": [
            "Digite sua idade: 10\n",
            "Criança\n"
          ]
        }
      ]
    },
    {
      "cell_type": "markdown",
      "source": [
        "###4° - Questão"
      ],
      "metadata": {
        "id": "cTUkNhMlxZva"
      }
    },
    {
      "cell_type": "code",
      "source": [
        "number_1 = float(input(\"1° Número: \"))\n",
        "number_2 = float(input(\"2° Número: \"))\n",
        "operacao = input(\"Qual operação? (+, -, / ou *): \")\n",
        "\n",
        "if operacao == \"+\" or operacao == \"soma\":\n",
        "  print(\"{:.2f}\".format(number_1 + number_2))\n",
        "elif operacao == \"-\" or operacao == \"subtração\":\n",
        "  print(\"{:.2f}\".format(number_1 - number_2))\n",
        "elif operacao == \"/\" or operacao == \"divisão\":\n",
        "  print(\"{:.2f}\".format(number_1 / number_2))\n",
        "elif operacao == \"*\" or operacao == \"multiplicação\":\n",
        "  print(\"{:.2f}\".format(number_1 * number_2))\n",
        "else:\n",
        "  print(\"Operação inválida\")"
      ],
      "metadata": {
        "colab": {
          "base_uri": "https://localhost:8080/"
        },
        "id": "ya-Q4Ke4xbjw",
        "outputId": "ae7d4803-cec3-490c-a539-98f5516aa18b"
      },
      "execution_count": null,
      "outputs": [
        {
          "output_type": "stream",
          "name": "stdout",
          "text": [
            "1° Número: 4.5\n",
            "2° Número: 5.6\n",
            "Qual operação? (+, -, / ou *): -\n",
            "-1.10\n"
          ]
        }
      ]
    },
    {
      "cell_type": "markdown",
      "source": [
        "#<br>Laços / Loop"
      ],
      "metadata": {
        "id": "RwylqRey3bJe"
      }
    },
    {
      "cell_type": "code",
      "source": [
        "#Exemplo com while de número par\n",
        "index = 10\n",
        "print(\"Programa iniciado\")\n",
        "while(index >= 2):\n",
        "  if index % 2 == 0:\n",
        "    print(\"{} é par\".format(index))\n",
        "  else:\n",
        "    print(\"{} é ímpar\".format(index))\n",
        "  index -= 1\n",
        "print(\"Programa finalizado\")"
      ],
      "metadata": {
        "colab": {
          "base_uri": "https://localhost:8080/"
        },
        "id": "B6iKbV4I3evd",
        "outputId": "2d1613cd-1263-4e94-bfa8-dabdf3a312f7"
      },
      "execution_count": null,
      "outputs": [
        {
          "output_type": "stream",
          "name": "stdout",
          "text": [
            "Programa iniciado\n",
            "10 é par\n",
            "9 é ímpar\n",
            "8 é par\n",
            "7 é ímpar\n",
            "6 é par\n",
            "5 é ímpar\n",
            "4 é par\n",
            "3 é ímpar\n",
            "2 é par\n",
            "Programa finalizado\n"
          ]
        }
      ]
    },
    {
      "cell_type": "code",
      "source": [
        "#Exemplo do while com soma de valores\n",
        "soma = 0\n",
        "i = 0\n",
        "while(i < 5):\n",
        "  numero = float(input(\"Digite o valor: \"))\n",
        "  soma += numero\n",
        "  i += 1\n",
        "print(\"O total é: {:.2f}\".format(soma))"
      ],
      "metadata": {
        "colab": {
          "base_uri": "https://localhost:8080/"
        },
        "id": "Rh1dhKS4xX6K",
        "outputId": "6d3d7ec2-2d89-40f0-91b4-48f103742fef"
      },
      "execution_count": null,
      "outputs": [
        {
          "output_type": "stream",
          "name": "stdout",
          "text": [
            "Digite o valor: 2\n",
            "Digite o valor: 2\n",
            "Digite o valor: 2\n",
            "Digite o valor: 2\n",
            "Digite o valor: 2\n",
            "O total é: 10.00\n"
          ]
        }
      ]
    },
    {
      "cell_type": "code",
      "source": [
        "#Exemplo de percorrer uma String\n",
        "text_percorrer = input(\"Digite um texto qualquer\")\n",
        "j = 0\n",
        "while(j < len(text_percorrer)):\n",
        "  print(text_percorrer[j])\n",
        "  j += 1\n"
      ],
      "metadata": {
        "colab": {
          "base_uri": "https://localhost:8080/"
        },
        "id": "zxSnxEO765Pw",
        "outputId": "4a429f11-93c1-4a8d-8f73-745132d1c2dd"
      },
      "execution_count": null,
      "outputs": [
        {
          "output_type": "stream",
          "name": "stdout",
          "text": [
            "Digite um texto qualquerNoé\n",
            "N\n",
            "o\n",
            "é\n"
          ]
        }
      ]
    },
    {
      "cell_type": "code",
      "source": [
        "#Exemplo de um while com break\n",
        "num_atual = 0\n",
        "while(True):\n",
        "  num_atual += 1\n",
        "  print(num_atual)\n",
        "  if(num_atual == 7):\n",
        "    break\n",
        "print(\"Encerrou!\")"
      ],
      "metadata": {
        "colab": {
          "base_uri": "https://localhost:8080/"
        },
        "id": "9RU7jDqO84ki",
        "outputId": "d30628b0-a570-4507-9161-e1cbabf4e70e"
      },
      "execution_count": null,
      "outputs": [
        {
          "output_type": "stream",
          "name": "stdout",
          "text": [
            "1\n",
            "2\n",
            "3\n",
            "4\n",
            "5\n",
            "6\n",
            "7\n",
            "Encerrou!\n"
          ]
        }
      ]
    },
    {
      "cell_type": "code",
      "source": [
        "#Exemplo do continue pulando um interador do loop\n",
        "num_atual_2 = 0\n",
        "while(num_atual_2 < 8):\n",
        "  num_atual_2 += 1\n",
        "  if(num_atual_2 == 7):\n",
        "    continue\n",
        "  print(num_atual_2)\n",
        "print(\"Encerrou!\")"
      ],
      "metadata": {
        "colab": {
          "base_uri": "https://localhost:8080/"
        },
        "id": "yCeEs_LY9M_R",
        "outputId": "4601d1f7-63c7-4c33-ad6e-404fd2e7d0ae"
      },
      "execution_count": null,
      "outputs": [
        {
          "output_type": "stream",
          "name": "stdout",
          "text": [
            "1\n",
            "2\n",
            "3\n",
            "4\n",
            "5\n",
            "6\n",
            "8\n",
            "Encerrou!\n"
          ]
        }
      ]
    },
    {
      "cell_type": "markdown",
      "source": [
        "##Atividade"
      ],
      "metadata": {
        "id": "CutUw_ty-o-y"
      }
    },
    {
      "cell_type": "markdown",
      "source": [
        "###1° - Questão"
      ],
      "metadata": {
        "id": "M-GK9E26-sTH"
      }
    },
    {
      "cell_type": "code",
      "source": [
        "i = 0; sum_2 = 0;\n",
        "while(i < 5):\n",
        "  numeros_art = float(input(\"Digite o número: \"))\n",
        "  sum_2 += numeros_art\n",
        "  i += 1\n",
        "print(\"A média é: {}\".format(sum_2 / 5))4"
      ],
      "metadata": {
        "colab": {
          "base_uri": "https://localhost:8080/"
        },
        "id": "Wo1Aw2nd-t9v",
        "outputId": "e8ecb894-9222-4f07-a122-7383d0753b1a"
      },
      "execution_count": null,
      "outputs": [
        {
          "output_type": "stream",
          "name": "stdout",
          "text": [
            "Digite o número: 5\n",
            "Digite o número: 4\n",
            "Digite o número: 5\n",
            "Digite o número: 4\n",
            "Digite o número: 5\n",
            "A média é: 4.6\n"
          ]
        }
      ]
    },
    {
      "cell_type": "markdown",
      "source": [
        "###2° - Questão"
      ],
      "metadata": {
        "id": "ztT5fgADABY4"
      }
    },
    {
      "cell_type": "code",
      "source": [
        "i_2 = 0; sum_3 = 0;\n",
        "while(i_2 < 5):\n",
        "  numeros_art = float(input(\"Digite o número: \"))\n",
        "  if numeros_art < 0:\n",
        "    continue\n",
        "  sum_3 += numeros_art\n",
        "  i_2 += 1\n",
        "print(\"A soma é: {:.2f}\".format(sum_3))"
      ],
      "metadata": {
        "colab": {
          "base_uri": "https://localhost:8080/"
        },
        "id": "lQLoJItsAHH2",
        "outputId": "8104fea6-e5b5-4934-b7e7-8a2320bb1a39"
      },
      "execution_count": null,
      "outputs": [
        {
          "output_type": "stream",
          "name": "stdout",
          "text": [
            "Digite o número: 2\n",
            "Digite o número: -1\n",
            "Digite o número: 2\n",
            "Digite o número: 2\n",
            "Digite o número: 2\n",
            "Digite o número: 2\n",
            "A soma é: 10.00\n"
          ]
        }
      ]
    },
    {
      "cell_type": "markdown",
      "source": [
        "###3° - Questão"
      ],
      "metadata": {
        "id": "BNgi3DbDBBie"
      }
    },
    {
      "cell_type": "code",
      "source": [
        "i_3 = 0; sum_4 = 0;\n",
        "j_2 = int(input(\"Quantas somas deseja fazer: \"))\n",
        "while(i_3 < j_2):\n",
        "  numeros_art = float(input(\"Digite o número: \"))\n",
        "  sum_4 += numeros_art\n",
        "  i_3 += 1\n",
        "print(\"A soma é: {:.2f}\".format(sum_4))"
      ],
      "metadata": {
        "colab": {
          "base_uri": "https://localhost:8080/"
        },
        "id": "e9DhieyTBDVX",
        "outputId": "21a8471e-9231-4a83-b650-6a6ebac1b78f"
      },
      "execution_count": null,
      "outputs": [
        {
          "output_type": "stream",
          "name": "stdout",
          "text": [
            "Quantas somas deseja fazer: 3\n",
            "Digite o número: 2\n",
            "Digite o número: 2\n",
            "Digite o número: 2\n",
            "A soma é: 6.00\n"
          ]
        }
      ]
    },
    {
      "cell_type": "markdown",
      "source": [
        "###4° - Questão"
      ],
      "metadata": {
        "id": "zDmrj39UCBhH"
      }
    },
    {
      "cell_type": "code",
      "source": [
        "i_4 = 2\n",
        "while(i_4 < 11):\n",
        "  result = \"PAR\" if i_4 % 2 == 0 else \"ÍMPAR\"\n",
        "  print(\"O número {} é {}\".format(i_4, result))\n",
        "  i_4 += 1"
      ],
      "metadata": {
        "colab": {
          "base_uri": "https://localhost:8080/"
        },
        "id": "j4zL5tZLCEie",
        "outputId": "2f1153d5-045e-4c14-e413-4464a8335df3"
      },
      "execution_count": null,
      "outputs": [
        {
          "output_type": "stream",
          "name": "stdout",
          "text": [
            "O número 2 é PAR\n",
            "O número 3 é ÍMPAR\n",
            "O número 4 é PAR\n",
            "O número 5 é ÍMPAR\n",
            "O número 6 é PAR\n",
            "O número 7 é ÍMPAR\n",
            "O número 8 é PAR\n",
            "O número 9 é ÍMPAR\n",
            "O número 10 é PAR\n"
          ]
        }
      ]
    },
    {
      "cell_type": "markdown",
      "source": [
        "###5° - Questão"
      ],
      "metadata": {
        "id": "Fggvq18FDMAO"
      }
    },
    {
      "cell_type": "code",
      "source": [
        "name_2 = input(\"Digite um nome completo: \")\n",
        "i_5 = 0; cont = 0\n",
        "while(i_5 < len(name_2)):\n",
        "  if name_2[i_5] == \" \":\n",
        "    cont += 1\n",
        "  i_5 += 1\n",
        "print(\"A string '{}' tem '{}' espaços em branco\".format(name_2, cont))"
      ],
      "metadata": {
        "colab": {
          "base_uri": "https://localhost:8080/"
        },
        "id": "Bw4xq9OeDOUn",
        "outputId": "e640df5d-5fd7-4307-e719-72e2e8629e5f"
      },
      "execution_count": null,
      "outputs": [
        {
          "output_type": "stream",
          "name": "stdout",
          "text": [
            "Digite um nome completo: Noé Martins\n",
            "A string 'Noé Martins' tem '1' espaços em branco\n"
          ]
        }
      ]
    },
    {
      "cell_type": "markdown",
      "source": [
        "#<br>For"
      ],
      "metadata": {
        "id": "6JDd5q_xkZir"
      }
    },
    {
      "cell_type": "code",
      "source": [
        "#Exemplos da função range()\n",
        "text_2 = \"Meu texto\"\n",
        "for x in range(1, len(text_2), 2): #Vai dá posição 1 até o fim da string percorrendo de 2 em 2\n",
        "  print(text_2[x])"
      ],
      "metadata": {
        "colab": {
          "base_uri": "https://localhost:8080/"
        },
        "id": "s7sIfTZekcUE",
        "outputId": "b325dd4f-b3c2-441a-ac16-47bc2de23dbc"
      },
      "execution_count": null,
      "outputs": [
        {
          "output_type": "stream",
          "name": "stdout",
          "text": [
            "e\n",
            " \n",
            "e\n",
            "t\n"
          ]
        }
      ]
    },
    {
      "cell_type": "code",
      "source": [
        "#Exemplos de range() negativo (voltando)\n",
        "text_3 = \"Cachorro\"\n",
        "for y in range(5, 1, -1):\n",
        "  print(text_3[y])"
      ],
      "metadata": {
        "colab": {
          "base_uri": "https://localhost:8080/"
        },
        "id": "lUhhY-bGk8dF",
        "outputId": "549a7402-1988-43dd-8f7c-646d25dd0c40"
      },
      "execution_count": null,
      "outputs": [
        {
          "output_type": "stream",
          "name": "stdout",
          "text": [
            "r\n",
            "o\n",
            "h\n",
            "c\n"
          ]
        }
      ]
    },
    {
      "cell_type": "code",
      "source": [
        "#Exemplo de for percorrendo uma string\n",
        "for y in range(len(text_3)):\n",
        "  print(text_3[y])"
      ],
      "metadata": {
        "colab": {
          "base_uri": "https://localhost:8080/"
        },
        "id": "nqauv6S2mjwX",
        "outputId": "52f1228e-9dc4-41d9-969f-96671d5f7c15"
      },
      "execution_count": null,
      "outputs": [
        {
          "output_type": "stream",
          "name": "stdout",
          "text": [
            "C\n",
            "a\n",
            "c\n",
            "h\n",
            "o\n",
            "r\n",
            "r\n",
            "o\n"
          ]
        }
      ]
    },
    {
      "cell_type": "code",
      "source": [
        "#String já é um objeto iterável\n",
        "for y in text_3:\n",
        "  print(y)"
      ],
      "metadata": {
        "colab": {
          "base_uri": "https://localhost:8080/"
        },
        "id": "c76zCwnZm3Ba",
        "outputId": "fec1d639-7028-4e17-f512-b52b3c16957e"
      },
      "execution_count": null,
      "outputs": [
        {
          "output_type": "stream",
          "name": "stdout",
          "text": [
            "C\n",
            "a\n",
            "c\n",
            "h\n",
            "o\n",
            "r\n",
            "r\n",
            "o\n"
          ]
        }
      ]
    },
    {
      "cell_type": "code",
      "source": [
        "#Exemplo de for aninhados\n",
        "for x in range(1,3):\n",
        "  print(\"------------\")\n",
        "  for y in range(1,11):\n",
        "    print(\"{} X {} = {}\".format(x, y, x*y))"
      ],
      "metadata": {
        "colab": {
          "base_uri": "https://localhost:8080/"
        },
        "id": "aRNEkmKAnr_2",
        "outputId": "66bf3793-5a8f-41fb-eb1c-f66abd2a4a71"
      },
      "execution_count": null,
      "outputs": [
        {
          "output_type": "stream",
          "name": "stdout",
          "text": [
            "------------\n",
            "1 X 1 = 1\n",
            "1 X 2 = 2\n",
            "1 X 3 = 3\n",
            "1 X 4 = 4\n",
            "1 X 5 = 5\n",
            "1 X 6 = 6\n",
            "1 X 7 = 7\n",
            "1 X 8 = 8\n",
            "1 X 9 = 9\n",
            "1 X 10 = 10\n",
            "------------\n",
            "2 X 1 = 2\n",
            "2 X 2 = 4\n",
            "2 X 3 = 6\n",
            "2 X 4 = 8\n",
            "2 X 5 = 10\n",
            "2 X 6 = 12\n",
            "2 X 7 = 14\n",
            "2 X 8 = 16\n",
            "2 X 9 = 18\n",
            "2 X 10 = 20\n"
          ]
        }
      ]
    },
    {
      "cell_type": "markdown",
      "source": [
        "##Atividades"
      ],
      "metadata": {
        "id": "0c4XNp1nr3aQ"
      }
    },
    {
      "cell_type": "markdown",
      "source": [
        "###1° - Questão"
      ],
      "metadata": {
        "id": "QQW-aBUbr7hG"
      }
    },
    {
      "cell_type": "code",
      "source": [
        "cont = 0\n",
        "text_5 = input(\"Digite um texto: \")\n",
        "for x in text_5:\n",
        "  if x != \" \":\n",
        "    cont += 1\n",
        "print(\"O texto '{}' tem {} caracteres\".format(text_5, cont))"
      ],
      "metadata": {
        "colab": {
          "base_uri": "https://localhost:8080/"
        },
        "id": "3zc2RSDRr9EQ",
        "outputId": "d56851f6-a207-42ff-940b-96fef34b1395"
      },
      "execution_count": null,
      "outputs": [
        {
          "output_type": "stream",
          "name": "stdout",
          "text": [
            "Digite um texto: Noé Martins,\n",
            "O texto 'Noé Martins,' tem 11 caracteres\n"
          ]
        }
      ]
    },
    {
      "cell_type": "markdown",
      "source": [
        "###2° - Questão"
      ],
      "metadata": {
        "id": "_wCKSUYbsqlp"
      }
    },
    {
      "cell_type": "code",
      "source": [
        "#Algorítimo para um fatorial\n",
        "number_fat = 4\n",
        "result_fat = 1\n",
        "for x in range(1, number_fat+1):\n",
        "  result_fat *= x\n",
        "print(result_fat)"
      ],
      "metadata": {
        "colab": {
          "base_uri": "https://localhost:8080/"
        },
        "id": "Va7O5vEdst5G",
        "outputId": "b6ad58fc-54f4-4bc6-df5f-b464b7c87e7d"
      },
      "execution_count": null,
      "outputs": [
        {
          "output_type": "stream",
          "name": "stdout",
          "text": [
            "24\n"
          ]
        }
      ]
    },
    {
      "cell_type": "markdown",
      "source": [
        "###3° - Questão"
      ],
      "metadata": {
        "id": "puPKgWiSyXuV"
      }
    },
    {
      "cell_type": "markdown",
      "source": [
        "####Minha versão"
      ],
      "metadata": {
        "id": "-uCqCjZA07B-"
      }
    },
    {
      "cell_type": "code",
      "source": [
        "y = \"\"\n",
        "qtd_text = int(input(\"Quantos textos quer digitar: \"))\n",
        "\n",
        "for x in range(0, qtd_text):\n",
        "  x = input(\"Digite o texto que quiser: \")\n",
        "  y += x\n",
        "\n",
        "print(y)"
      ],
      "metadata": {
        "colab": {
          "base_uri": "https://localhost:8080/"
        },
        "id": "1gG78358yZay",
        "outputId": "8ca9e7fb-4ee4-4828-f620-8752b81c3e24"
      },
      "execution_count": null,
      "outputs": [
        {
          "output_type": "stream",
          "name": "stdout",
          "text": [
            "Quantos textos quer digitar: 3\n",
            "Digite o texto que quiser: Blz\n",
            "Digite o texto que quiser: Maluco\n",
            "Digite o texto que quiser: Doido\n",
            "BlzMalucoDoido\n"
          ]
        }
      ]
    },
    {
      "cell_type": "markdown",
      "source": [
        "####Versão Corrigida"
      ],
      "metadata": {
        "id": "dniOK3IZ0_jk"
      }
    },
    {
      "cell_type": "code",
      "source": [
        "'''\n",
        "Obs:\n",
        "1) Não precisava do \"0\" no range()\n",
        "2) Não precisava atribuir a uma variável \"x/i\" o input()\n",
        "'''\n",
        "numero_de_leituras = int(input(\"Quantos textos quer digitar: \"))\n",
        "texto_total = \"\"\n",
        "\n",
        "for i in range(numero_de_leituras):\n",
        "  texto_total += input(\"Digite o texto que quiser: \")\n",
        "\n",
        "print(texto_total)"
      ],
      "metadata": {
        "colab": {
          "base_uri": "https://localhost:8080/"
        },
        "id": "sNbYeVpB1BXw",
        "outputId": "6bbf8e79-35a6-4e9a-ff14-35357d5a1823"
      },
      "execution_count": null,
      "outputs": [
        {
          "output_type": "stream",
          "name": "stdout",
          "text": [
            "Quantos textos quer digitar: 3\n",
            "Digite o texto que quiser: Blz\n",
            "Digite o texto que quiser: Maluco\n",
            "Digite o texto que quiser: Doido\n",
            "BlzMalucoDoido\n"
          ]
        }
      ]
    },
    {
      "cell_type": "markdown",
      "source": [
        "###4° - Questão"
      ],
      "metadata": {
        "id": "cSIC0WIX2CfM"
      }
    },
    {
      "cell_type": "code",
      "source": [
        "numero_divisao = int(input(\"Digite o número escolhido para tabuada: \"))\n",
        "for i in range(1,11):\n",
        "  print(\"{} / {} = {:.2f}\".format(numero_divisao, i, numero_divisao / i))"
      ],
      "metadata": {
        "colab": {
          "base_uri": "https://localhost:8080/"
        },
        "id": "yEAU5Pph2E2n",
        "outputId": "ad6cc58e-9586-483e-cc80-1ef1dbb66886"
      },
      "execution_count": null,
      "outputs": [
        {
          "output_type": "stream",
          "name": "stdout",
          "text": [
            "Digite o número escolhido para tabuada: 3\n",
            "3 / 1 = 3.00\n",
            "3 / 2 = 1.50\n",
            "3 / 3 = 1.00\n",
            "3 / 4 = 0.75\n",
            "3 / 5 = 0.60\n",
            "3 / 6 = 0.50\n",
            "3 / 7 = 0.43\n",
            "3 / 8 = 0.38\n",
            "3 / 9 = 0.33\n",
            "3 / 10 = 0.30\n"
          ]
        }
      ]
    },
    {
      "cell_type": "markdown",
      "source": [
        "###Desafio"
      ],
      "metadata": {
        "id": "EtgIi0c_3-a4"
      }
    },
    {
      "cell_type": "code",
      "source": [
        "for i in range(3, 31):\n",
        "  divisores = 0\n",
        "  x = 1\n",
        "\n",
        "  while(x <= i):\n",
        "    if i % x == 0:\n",
        "      divisores += 1\n",
        "    x += 1\n",
        "\n",
        "  if divisores == 2:\n",
        "    print(\"O número {} é PRIMO\".format(i))\n",
        "  else:\n",
        "    pass\n",
        "    #print(\"O número {} é NÁO É PRIMO\".format(i))"
      ],
      "metadata": {
        "colab": {
          "base_uri": "https://localhost:8080/"
        },
        "id": "aToV6qsf4CbX",
        "outputId": "c0349eaa-da7b-41c2-cdc3-cce28fe7e8fe"
      },
      "execution_count": null,
      "outputs": [
        {
          "output_type": "stream",
          "name": "stdout",
          "text": [
            "O número 3 é PRIMO\n",
            "O número 5 é PRIMO\n",
            "O número 7 é PRIMO\n",
            "O número 11 é PRIMO\n",
            "O número 13 é PRIMO\n",
            "O número 17 é PRIMO\n",
            "O número 19 é PRIMO\n",
            "O número 23 é PRIMO\n",
            "O número 29 é PRIMO\n"
          ]
        }
      ]
    }
  ]
}